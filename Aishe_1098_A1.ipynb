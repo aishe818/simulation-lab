{
  "nbformat": 4,
  "nbformat_minor": 0,
  "metadata": {
    "colab": {
      "provenance": [],
      "include_colab_link": true
    },
    "kernelspec": {
      "name": "python3",
      "display_name": "Python 3"
    },
    "language_info": {
      "name": "python"
    }
  },
  "cells": [
    {
      "cell_type": "markdown",
      "metadata": {
        "id": "view-in-github",
        "colab_type": "text"
      },
      "source": [
        "<a href=\"https://colab.research.google.com/github/aishe818/simulation-lab/blob/main/Aishe_1098_A1.ipynb\" target=\"_parent\"><img src=\"https://colab.research.google.com/assets/colab-badge.svg\" alt=\"Open In Colab\"/></a>"
      ]
    },
    {
      "cell_type": "code",
      "execution_count": 1,
      "metadata": {
        "id": "vIYJw12D1mQ_"
      },
      "outputs": [],
      "source": [
        "import numpy as np\n",
        "from sympy import Matrix\n",
        "import matplotlib.pyplot as plt\n",
        "import seaborn as sns\n"
      ]
    },
    {
      "cell_type": "code",
      "source": [
        "# Sample vector (1D array)\n",
        "vec = np.array([93, 83, 69, 62, 75, 93, 73, 77, 65, 65, 78, 90, 94, 78, 57, 76, 56, 78, 84, 92])\n",
        "\n",
        "\n",
        "\n",
        "\n",
        "# 8. Mean value\n",
        "mean_value = np.mean(vec)\n",
        "\n",
        "# 9. Standard deviation\n",
        "std_dev = np.std(vec)\n",
        "\n",
        "# Display results\n",
        "print(\"Mean value:\", mean_value)\n",
        "print(\"Standard deviation:\", std_dev)"
      ],
      "metadata": {
        "id": "iCqkV-VT1ndp",
        "colab": {
          "base_uri": "https://localhost:8080/"
        },
        "outputId": "9cd490db-f9c9-49aa-f431-b3907ce13f47"
      },
      "execution_count": 2,
      "outputs": [
        {
          "output_type": "stream",
          "name": "stdout",
          "text": [
            "Mean value: 76.9\n",
            "Standard deviation: 11.665761869676578\n"
          ]
        }
      ]
    },
    {
      "cell_type": "code",
      "metadata": {
        "id": "8b9e40c3",
        "colab": {
          "base_uri": "https://localhost:8080/"
        },
        "outputId": "fbb62039-eb68-45c4-953c-fa1938ce7943"
      },
      "source": [
        "# 10. Variance (population variance)\n",
        "population_variance = np.var(vec)\n",
        "\n",
        "# 11. Sample variance\n",
        "sample_variance = np.var(vec, ddof=1) # ddof=1 for sample variance\n",
        "\n",
        "# Display results\n",
        "print(\"Population Variance:\", population_variance)\n",
        "print(\"Sample Variance:\", sample_variance)"
      ],
      "execution_count": 3,
      "outputs": [
        {
          "output_type": "stream",
          "name": "stdout",
          "text": [
            "Population Variance: 136.08999999999997\n",
            "Sample Variance: 143.25263157894736\n"
          ]
        }
      ]
    },
    {
      "cell_type": "markdown",
      "metadata": {
        "id": "7a56fb0c"
      },
      "source": [
        "### Population Variance vs Sample Variance\n",
        "\n",
        "*   **Population Variance ($\\sigma^2$)**: This is the average of the squared differences from the mean for the entire population. It's calculated when you have data for every member of the population. The formula is:\n",
        "\n",
        "    $$ \\sigma^2 = \\frac{\\sum (x_i - \\mu)^2}{N} $$\n",
        "\n",
        "    where:\n",
        "    *   $x_i$ is each value in the population\n",
        "    *   $\\mu$ is the population mean\n",
        "    *   $N$ is the number of data points in the population\n",
        "\n",
        "*   **Sample Variance ($s^2$)**: This is an estimate of the population variance based on a sample of the population. It's calculated when you only have data for a subset of the population. The formula for sample variance uses Bessel's correction ($n-1$ in the denominator) to provide a less biased estimate of the population variance:\n",
        "\n",
        "    $$ s^2 = \\frac{\\sum (x_i - \\bar{x})^2}{n-1} $$\n",
        "\n",
        "    where:\n",
        "    *   $x_i$ is each value in the sample\n",
        "    *   $\\bar{x}$ is the sample mean\n",
        "    *   $n$ is the number of data points in the sample\n",
        "\n",
        "In NumPy's `np.var()` function:\n",
        "*   The default behavior calculates the population variance ($\\sigma^2$).\n",
        "*   To calculate the sample variance ($s^2$), you need to set the `ddof` (delta degrees of freedom) parameter to 1. This tells NumPy to use $n-1$ in the denominator instead of $n$."
      ]
    },
    {
      "cell_type": "markdown",
      "metadata": {
        "id": "d2e00937"
      },
      "source": [
        "# Task\n",
        "Generate a simulated dataset of 30 days of customer arrivals assuming a uniform distribution. Create a real dataset of 30 days of customer arrivals. Plot both the real and simulated data in side-by-side histograms for comparison."
      ]
    },
    {
      "cell_type": "markdown",
      "metadata": {
        "id": "5023c707"
      },
      "source": [
        "## Generate real data\n",
        "\n",
        "### Subtask:\n",
        "Create a real dataset for 30 days of customer arrivals.\n"
      ]
    },
    {
      "cell_type": "markdown",
      "metadata": {
        "id": "8f258925"
      },
      "source": [
        "**Reasoning**:\n",
        "Create a NumPy array named `real_data` with 30 plausible integers for daily customer arrivals.\n",
        "\n"
      ]
    },
    {
      "cell_type": "code",
      "metadata": {
        "colab": {
          "base_uri": "https://localhost:8080/"
        },
        "id": "7cd9d2cc",
        "outputId": "3ca7ffaa-13e1-42b9-911c-1017cd564574"
      },
      "source": [
        "real_data = np.array([55, 60, 58, 65, 70, 62, 59, 68, 72, 75, 63, 61, 66, 69, 71, 57, 64, 67, 73, 76, 56, 60, 63, 67, 70, 65, 62, 68, 71, 74])\n",
        "print(real_data)"
      ],
      "execution_count": null,
      "outputs": [
        {
          "output_type": "stream",
          "name": "stdout",
          "text": [
            "[55 60 58 65 70 62 59 68 72 75 63 61 66 69 71 57 64 67 73 76 56 60 63 67\n",
            " 70 65 62 68 71 74]\n"
          ]
        }
      ]
    },
    {
      "cell_type": "markdown",
      "metadata": {
        "id": "6101d2ab"
      },
      "source": [
        "## Generate simulated data\n",
        "\n",
        "### Subtask:\n",
        "Generate a simulated dataset of customer arrivals for 30 days using a uniform distribution.\n"
      ]
    },
    {
      "cell_type": "markdown",
      "metadata": {
        "id": "d26923aa"
      },
      "source": [
        "**Reasoning**:\n",
        "Generate simulated customer arrival data using a uniform distribution, convert to integers, and print the result as instructed.\n",
        "\n"
      ]
    },
    {
      "cell_type": "code",
      "metadata": {
        "id": "a2372d96"
      },
      "source": [
        "generated_scores = np.random.normal(loc=mean_value, scale=std_dev, size=20)"
      ],
      "execution_count": 27,
      "outputs": []
    },
    {
      "cell_type": "markdown",
      "metadata": {
        "id": "8cf964d2"
      },
      "source": [
        "## Visualize the data\n",
        "\n",
        "### Subtask:\n",
        "Plot histograms of both the real and generated data side-by-side for comparison."
      ]
    },
    {
      "cell_type": "markdown",
      "metadata": {
        "id": "bc2b5098"
      },
      "source": [
        "**Reasoning**:\n",
        "Plot side-by-side histograms of the real and generated exam scores for visual comparison."
      ]
    },
    {
      "cell_type": "code",
      "metadata": {
        "colab": {
          "base_uri": "https://localhost:8080/",
          "height": 507
        },
        "id": "3c2813f5",
        "outputId": "934e765e-bee2-46bd-abbf-9dd53628406c"
      },
      "source": [
        "fig, axes = plt.subplots(1, 2, figsize=(12, 5))\n",
        "\n",
        "# Plot real data histogram\n",
        "axes[0].hist(vec, bins=10, color='skyblue', edgecolor='black')\n",
        "axes[0].set_xlabel('Exam Score')\n",
        "axes[0].set_ylabel('Frequency')\n",
        "axes[0].set_title('Real Data Distribution')\n",
        "\n",
        "# Plot generated data histogram\n",
        "axes[1].hist(generated_scores, bins=10, color='lightcoral', edgecolor='black')\n",
        "axes[1].set_xlabel('Exam Score')\n",
        "axes[1].set_ylabel('Frequency')\n",
        "axes[1].set_title('Generated Data Distribution (Normal)')\n",
        "\n",
        "# Adjust layout and display plot\n",
        "plt.tight_layout()\n",
        "plt.show()"
      ],
      "execution_count": 28,
      "outputs": [
        {
          "output_type": "display_data",
          "data": {
            "text/plain": [
              "<Figure size 1200x500 with 2 Axes>"
            ],
            "image/png": "[encoded data removed]"
          },
          "metadata": {}
        }
      ]
    },
    {
      "cell_type": "markdown",
      "metadata": {
        "id": "f5530168"
      },
      "source": [
        "## Generate random data\n",
        "\n",
        "### Subtask:\n",
        "Generate a random dataset of 20 exam scores using `np.random.normal` with the mean and standard deviation of the real data."
      ]
    },
    {
      "cell_type": "markdown",
      "metadata": {
        "id": "3e3a4815"
      },
      "source": [
        "**Reasoning**:\n",
        "Generate random exam scores using np.random.normal with the mean and standard deviation of the real data as instructed."
      ]
    },
    {
      "cell_type": "code",
      "metadata": {
        "id": "a50799cc"
      },
      "source": [
        "generated_scores = np.random.normal(loc=mean_value, scale=std_dev, size=20)"
      ],
      "execution_count": 25,
      "outputs": []
    },
    {
      "cell_type": "markdown",
      "metadata": {
        "id": "5cd52c8f"
      },
      "source": [
        "## Visualize the data\n",
        "\n",
        "### Subtask:\n",
        "Plot histograms of both the real and simulated data side-by-side for comparison.\n"
      ]
    },
    {
      "cell_type": "markdown",
      "metadata": {
        "id": "ab25640d"
      },
      "source": [
        "**Reasoning**:\n",
        "Create a figure and subplots, then plot the histograms of the real and simulated data side-by-side with appropriate labels and titles, and finally adjust the layout and display the plot.\n",
        "\n"
      ]
    },
    {
      "cell_type": "markdown",
      "metadata": {
        "id": "f2989feb"
      },
      "source": [
        "## Summary:\n",
        "\n",
        "### Data Analysis Key Findings\n",
        "\n",
        "*   A real dataset of 30 days of customer arrivals was created, with daily counts ranging from 55 to 76.\n",
        "*   A simulated dataset of 30 days of customer arrivals was generated using a uniform distribution between 50 and 80, with counts rounded to integers.\n",
        "*   Side-by-side histograms were plotted comparing the distributions of the real and simulated datasets.\n",
        "\n",
        "### Insights or Next Steps\n",
        "\n",
        "*   Compare the visual characteristics of the real and simulated data histograms to assess how well the uniform distribution assumption fits the real-world scenario.\n",
        "*   Consider exploring other probability distributions (e.g., Poisson or Normal) to potentially find a better fit for the real customer arrival data.\n"
      ]
    },
    {
      "cell_type": "markdown",
      "metadata": {
        "id": "4a007d8c"
      },
      "source": [
        "# Task\n",
        "Estimate the probability that more than 15 customers arrive on a given day using Monte Carlo simulation with 1,000,000 samples from a uniform distribution."
      ]
    },
    {
      "cell_type": "markdown",
      "metadata": {
        "id": "736e29bd"
      },
      "source": [
        "## Define parameters\n",
        "\n",
        "### Subtask:\n",
        "Define the parameters for the uniform distribution (low and high values) and the number of simulations.\n"
      ]
    },
    {
      "cell_type": "markdown",
      "metadata": {
        "id": "e3b03536"
      },
      "source": [
        "**Reasoning**:\n",
        "Define the parameters for the uniform distribution and the number of simulations as instructed.\n",
        "\n"
      ]
    },
    {
      "cell_type": "code",
      "metadata": {
        "id": "fb7aea98"
      },
      "source": [
        "low_bound = 00\n",
        "high_bound = 75\n",
        "num_simulations = 100000"
      ],
      "execution_count": 29,
      "outputs": []
    },
    {
      "cell_type": "markdown",
      "metadata": {
        "id": "3c4a0b4e"
      },
      "source": [
        "## Run monte carlo simulation\n",
        "\n",
        "### Subtask:\n",
        "Generate a large number of simulated customer arrival samples using the uniform distribution.\n"
      ]
    },
    {
      "cell_type": "markdown",
      "metadata": {
        "id": "4b083f7a"
      },
      "source": [
        "**Reasoning**:\n",
        "Generate simulated customer arrival data using a uniform distribution and store it in a variable as instructed.\n",
        "\n"
      ]
    },
    {
      "cell_type": "code",
      "metadata": {
        "id": "5dd41382"
      },
      "source": [
        "simulated_arrivals = np.random.uniform(low=low_bound, high=high_bound, size=num_simulations)"
      ],
      "execution_count": 30,
      "outputs": []
    },
    {
      "cell_type": "markdown",
      "metadata": {
        "id": "8675ee70"
      },
      "source": [
        "## Estimate probability\n",
        "\n",
        "### Subtask:\n",
        "Count the number of simulated days where more than 15 customers arrived and calculate the probability.\n"
      ]
    },
    {
      "cell_type": "markdown",
      "metadata": {
        "id": "bbefae5a"
      },
      "source": [
        "**Reasoning**:\n",
        "Filter the simulated data, count the occurrences greater than 15, and calculate the probability.\n",
        "\n"
      ]
    },
    {
      "cell_type": "code",
      "metadata": {
        "colab": {
          "base_uri": "https://localhost:8080/"
        },
        "id": "6240b9f9",
        "outputId": "5661414d-79dd-4a70-a792-b495957ae299"
      },
      "source": [
        "arrivals_greater_than_15 = simulated_arrivals[simulated_arrivals > 15]\n",
        "count_greater_than_15 = len(arrivals_greater_than_15)\n",
        "estimated_probability = count_greater_than_15 / num_simulations\n",
        "print(\"Estimated probability of more than 15 arrivals:\", estimated_probability)"
      ],
      "execution_count": 31,
      "outputs": [
        {
          "output_type": "stream",
          "name": "stdout",
          "text": [
            "Estimated probability of more than 15 arrivals: 0.79923\n"
          ]
        }
      ]
    },
    {
      "cell_type": "markdown",
      "metadata": {
        "id": "9c6465e1"
      },
      "source": [
        "## Display results\n",
        "\n",
        "### Subtask:\n",
        "Print the estimated probability.\n"
      ]
    },
    {
      "cell_type": "markdown",
      "metadata": {
        "id": "da049f56"
      },
      "source": [
        "**Reasoning**:\n",
        "Print the value of the estimated probability.\n",
        "\n"
      ]
    },
    {
      "cell_type": "code",
      "metadata": {
        "colab": {
          "base_uri": "https://localhost:8080/"
        },
        "id": "17c938fb",
        "outputId": "0bba1884-bf32-4eaf-f421-872420d7169c"
      },
      "source": [
        "print(\"Estimated probability of more than 15 arrivals:\", estimated_probability)"
      ],
      "execution_count": 32,
      "outputs": [
        {
          "output_type": "stream",
          "name": "stdout",
          "text": [
            "Estimated probability of more than 15 arrivals: 0.79923\n"
          ]
        }
      ]
    },
    {
      "cell_type": "markdown",
      "metadata": {
        "id": "e2050df2"
      },
      "source": [
        "## Summary:\n",
        "\n",
        "### Data Analysis Key Findings\n",
        "\n",
        "*   The simulation used 1,000,000 samples drawn from a uniform distribution with a lower bound of 50 and an upper bound of 80.\n",
        "*   The estimated probability of more than 15 customer arrivals on a given day, based on the Monte Carlo simulation, is 1.0.\n",
        "\n",
        "### Insights or Next Steps\n",
        "\n",
        "*   The estimated probability of 1.0 suggests that, given the specified uniform distribution range of 50 to 80, it is certain that the number of arrivals will be greater than 15.\n",
        "*   To explore probabilities of arrivals greater than 15 that are less than 1.0, consider adjusting the parameters of the uniform distribution to include values below or closer to 15.\n"
      ]
    },
    {
      "cell_type": "code",
      "metadata": {
        "colab": {
          "base_uri": "https://localhost:8080/"
        },
        "id": "67ec7af4",
        "outputId": "f102e2ca-a4c5-4811-e653-4853017fb64b"
      },
      "source": [
        "hypothesized_mean = (98 % 50) + 50\n",
        "print(\"Hypothesized mean:\", hypothesized_mean)"
      ],
      "execution_count": 18,
      "outputs": [
        {
          "output_type": "stream",
          "name": "stdout",
          "text": [
            "Hypothesized mean: 98\n"
          ]
        }
      ]
    },
    {
      "cell_type": "markdown",
      "metadata": {
        "id": "ce50c390"
      },
      "source": [
        "# Task\n",
        "Test the null hypothesis that the mean daily customer arrival is equal to the hypothesized mean (calculated as (98 mod 10) + 10) using a one-sample t-test on the real customer arrival data. Report the t-statistic, p-value, and conclusion. Include a visualization comparing the sample mean and hypothesized mean, and provide a unique interpretation of the results in context."
      ]
    },
    {
      "cell_type": "markdown",
      "metadata": {
        "id": "1666d9bc"
      },
      "source": [
        "## Perform one-sample t-test\n",
        "\n",
        "### Subtask:\n",
        "Conduct a one-sample t-test on the real customer arrival data using the hypothesized mean.\n"
      ]
    },
    {
      "cell_type": "markdown",
      "metadata": {
        "id": "e9ce7340"
      },
      "source": [
        "**Reasoning**:\n",
        "Import the required function and perform the one-sample t-test as instructed.\n",
        "\n"
      ]
    },
    {
      "cell_type": "code",
      "metadata": {
        "id": "5e3c073c"
      },
      "source": [
        "from scipy.stats import ttest_1samp\n",
        "\n",
        "t_statistic, p_value = ttest_1samp(real_data, hypothesized_mean)"
      ],
      "execution_count": 19,
      "outputs": []
    },
    {
      "cell_type": "markdown",
      "metadata": {
        "id": "4e7caadb"
      },
      "source": [
        "## Report results\n",
        "\n",
        "### Subtask:\n",
        "Display the t-statistic, p-value, and a conclusion based on the p-value and a chosen significance level.\n"
      ]
    },
    {
      "cell_type": "markdown",
      "metadata": {
        "id": "df23fc21"
      },
      "source": [
        "**Reasoning**:\n",
        "Print the t-statistic and p-value, and state the conclusion of the t-test based on a significance level of 0.05.\n",
        "\n"
      ]
    },
    {
      "cell_type": "code",
      "metadata": {
        "colab": {
          "base_uri": "https://localhost:8080/"
        },
        "id": "ce0c100f",
        "outputId": "3ecab726-fe46-43c1-f87f-1c1ec5c101b6"
      },
      "source": [
        "alpha = 0.05\n",
        "print(\"T-statistic:\", t_statistic)\n",
        "print(\"P-value:\", p_value)\n",
        "\n",
        "if p_value < alpha:\n",
        "  print(\"Conclusion: Reject the null hypothesis. The mean daily customer arrival is significantly different from the hypothesized mean.\")\n",
        "else:\n",
        "  print(\"Conclusion: Fail to reject the null hypothesis. There is not enough evidence to conclude that the mean daily customer arrival is significantly different from the hypothesized mean.\")"
      ],
      "execution_count": 22,
      "outputs": [
        {
          "output_type": "stream",
          "name": "stdout",
          "text": [
            "T-statistic: -7.883991524615103\n",
            "P-value: 2.080598641723973e-07\n",
            "Conclusion: Reject the null hypothesis. The mean daily customer arrival is significantly different from the hypothesized mean.\n"
          ]
        }
      ]
    },
    {
      "cell_type": "markdown",
      "metadata": {
        "id": "65dce20a"
      },
      "source": [
        "## Visualize comparison\n",
        "\n",
        "### Subtask:\n",
        "Create a visualization (e.g., a bar plot) comparing the sample mean of the real data to the hypothesized mean.\n"
      ]
    },
    {
      "cell_type": "markdown",
      "metadata": {
        "id": "89ac5440"
      },
      "source": [
        "**Reasoning**:\n",
        "Calculate the sample mean, prepare the labels and values for the bar plot, generate the bar plot, add labels and a title, and display the plot as instructed.\n",
        "\n"
      ]
    },
    {
      "cell_type": "markdown",
      "metadata": {
        "id": "01b34358"
      },
      "source": [
        "## Interpret results\n",
        "\n",
        "### Subtask:\n",
        "Provide a unique interpretation of the test results in the context of customer arrivals.\n"
      ]
    },
    {
      "cell_type": "markdown",
      "metadata": {
        "id": "ba7bccdf"
      },
      "source": [
        "## Summary:\n",
        "\n",
        "### Data Analysis Key Findings\n",
        "\n",
        "*   The one-sample t-test performed on the daily customer arrival data yielded a t-statistic of 44.515 and a p-value of approximately 2.996e-28.\n",
        "*   Using a significance level of 0.05, the null hypothesis was rejected because the p-value (2.996e-28) is less than the chosen alpha (0.05).\n",
        "*   The sample mean daily customer arrival was found to be different from the hypothesized mean.\n",
        "\n",
        "### Insights or Next Steps\n",
        "\n",
        "*   The statistically significant difference suggests that the assumed hypothesized mean for daily customer arrivals may need to be revised based on the real data.\n",
        "*   Further investigation is needed to understand the factors contributing to the observed difference between the sample mean and the hypothesized mean, such as seasonal trends, marketing campaigns, or external events, to refine operational planning.\n"
      ]
    },
    {
      "cell_type": "markdown",
      "metadata": {
        "id": "bfa1333a"
      },
      "source": [
        "# Task\n",
        "Generate a random dataset of 20 exam scores using np.random.normal with μ = mean(scores), σ = std(scores) and plot both the real and generated data in histograms (side by side)."
      ]
    },
    {
      "cell_type": "markdown",
      "metadata": {
        "id": "c249302b"
      },
      "source": [
        "## Generate random data\n",
        "\n",
        "### Subtask:\n",
        "Generate a random dataset of 20 exam scores using `np.random.normal` with the mean and standard deviation of the real data.\n"
      ]
    },
    {
      "cell_type": "code",
      "metadata": {
        "id": "213eeade"
      },
      "source": [
        "generated_scores = np.random.normal(loc=mean_value, scale=std_dev, size=20)"
      ],
      "execution_count": 21,
      "outputs": []
    },
    {
      "cell_type": "markdown",
      "metadata": {
        "id": "6a8d6d3f"
      },
      "source": [
        "**Reasoning**:\n",
        "Plot side-by-side histograms of the real and generated exam scores for visual comparison.\n",
        "\n"
      ]
    }
  ]
}