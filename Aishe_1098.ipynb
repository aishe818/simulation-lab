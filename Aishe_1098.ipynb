{
  "nbformat": 4,
  "nbformat_minor": 0,
  "metadata": {
    "colab": {
      "provenance": []
    },
    "kernelspec": {
      "name": "python3",
      "display_name": "Python 3"
    },
    "language_info": {
      "name": "python"
    }
  },
  "cells": [
    {
      "cell_type": "code",
      "execution_count": 1,
      "metadata": {
        "id": "vIYJw12D1mQ_"
      },
      "outputs": [],
      "source": [
        "import numpy as np\n",
        "from sympy import Matrix\n",
        "import matplotlib.pyplot as plt\n",
        "import seaborn as sns\n"
      ]
    },
    {
      "cell_type": "code",
      "source": [
        "# Sample vector (1D array)\n",
        "vec = np.array([8,12,10,15,9,13,11,14,7,16,10,12,9,15,11,13,14,8,12,10])\n",
        "\n",
        "\n",
        "\n",
        "\n",
        "# 8. Mean value\n",
        "mean_value = np.mean(vec)\n",
        "\n",
        "# 9. Standard deviation\n",
        "std_dev = np.std(vec)\n",
        "\n",
        "# Display results\n",
        "print(\"Mean value:\", mean_value)\n",
        "print(\"Standard deviation:\", std_dev)\n"
      ],
      "metadata": {
        "id": "iCqkV-VT1ndp"
      },
      "execution_count": null,
      "outputs": []
    },
    {
      "cell_type": "code",
      "metadata": {
        "id": "8b9e40c3"
      },
      "source": [
        "# 10. Variance (population variance)\n",
        "population_variance = np.var(vec)\n",
        "\n",
        "# 11. Sample variance\n",
        "sample_variance = np.var(vec, ddof=1) # ddof=1 for sample variance\n",
        "\n",
        "# Display results\n",
        "print(\"Population Variance:\", population_variance)\n",
        "print(\"Sample Variance:\", sample_variance)"
      ],
      "execution_count": null,
      "outputs": []
    },
    {
      "cell_type": "markdown",
      "metadata": {
        "id": "7a56fb0c"
      },
      "source": [
        "### Population Variance vs Sample Variance\n",
        "\n",
        "*   **Population Variance ($\\sigma^2$)**: This is the average of the squared differences from the mean for the entire population. It's calculated when you have data for every member of the population. The formula is:\n",
        "\n",
        "    $$ \\sigma^2 = \\frac{\\sum (x_i - \\mu)^2}{N} $$\n",
        "\n",
        "    where:\n",
        "    *   $x_i$ is each value in the population\n",
        "    *   $\\mu$ is the population mean\n",
        "    *   $N$ is the number of data points in the population\n",
        "\n",
        "*   **Sample Variance ($s^2$)**: This is an estimate of the population variance based on a sample of the population. It's calculated when you only have data for a subset of the population. The formula for sample variance uses Bessel's correction ($n-1$ in the denominator) to provide a less biased estimate of the population variance:\n",
        "\n",
        "    $$ s^2 = \\frac{\\sum (x_i - \\bar{x})^2}{n-1} $$\n",
        "\n",
        "    where:\n",
        "    *   $x_i$ is each value in the sample\n",
        "    *   $\\bar{x}$ is the sample mean\n",
        "    *   $n$ is the number of data points in the sample\n",
        "\n",
        "In NumPy's `np.var()` function:\n",
        "*   The default behavior calculates the population variance ($\\sigma^2$).\n",
        "*   To calculate the sample variance ($s^2$), you need to set the `ddof` (delta degrees of freedom) parameter to 1. This tells NumPy to use $n-1$ in the denominator instead of $n$."
      ]
    },
    {
      "cell_type": "markdown",
      "metadata": {
        "id": "d2e00937"
      },
      "source": [
        "# Task\n",
        "Generate a simulated dataset of 30 days of customer arrivals assuming a uniform distribution. Create a real dataset of 30 days of customer arrivals. Plot both the real and simulated data in side-by-side histograms for comparison."
      ]
    },
    {
      "cell_type": "markdown",
      "metadata": {
        "id": "5023c707"
      },
      "source": [
        "## Generate real data\n",
        "\n",
        "### Subtask:\n",
        "Create a real dataset for 30 days of customer arrivals.\n"
      ]
    },
    {
      "cell_type": "markdown",
      "metadata": {
        "id": "8f258925"
      },
      "source": [
        "**Reasoning**:\n",
        "Create a NumPy array named `real_data` with 30 plausible integers for daily customer arrivals.\n",
        "\n"
      ]
    },
    {
      "cell_type": "code",
      "metadata": {
        "colab": {
          "base_uri": "https://localhost:8080/"
        },
        "id": "7cd9d2cc",
        "outputId": "3ca7ffaa-13e1-42b9-911c-1017cd564574"
      },
      "source": [
        "real_data = np.array([55, 60, 58, 65, 70, 62, 59, 68, 72, 75, 63, 61, 66, 69, 71, 57, 64, 67, 73, 76, 56, 60, 63, 67, 70, 65, 62, 68, 71, 74])\n",
        "print(real_data)"
      ],
      "execution_count": 2,
      "outputs": [
        {
          "output_type": "stream",
          "name": "stdout",
          "text": [
            "[55 60 58 65 70 62 59 68 72 75 63 61 66 69 71 57 64 67 73 76 56 60 63 67\n",
            " 70 65 62 68 71 74]\n"
          ]
        }
      ]
    },
    {
      "cell_type": "markdown",
      "metadata": {
        "id": "6101d2ab"
      },
      "source": [
        "## Generate simulated data\n",
        "\n",
        "### Subtask:\n",
        "Generate a simulated dataset of customer arrivals for 30 days using a uniform distribution.\n"
      ]
    },
    {
      "cell_type": "markdown",
      "metadata": {
        "id": "d26923aa"
      },
      "source": [
        "**Reasoning**:\n",
        "Generate simulated customer arrival data using a uniform distribution, convert to integers, and print the result as instructed.\n",
        "\n"
      ]
    },
    {
      "cell_type": "code",
      "metadata": {
        "colab": {
          "base_uri": "https://localhost:8080/"
        },
        "id": "a2372d96",
        "outputId": "9658cd91-f183-403e-f88d-d26343277232"
      },
      "source": [
        "simulated_data = np.random.uniform(low=50, high=80, size=30)\n",
        "simulated_data = np.round(simulated_data).astype(int)\n",
        "print(simulated_data)"
      ],
      "execution_count": 3,
      "outputs": [
        {
          "output_type": "stream",
          "name": "stdout",
          "text": [
            "[64 66 79 58 73 78 67 63 56 59 57 71 71 74 64 51 54 58 56 69 63 57 60 67\n",
            " 66 74 79 53 58 56]\n"
          ]
        }
      ]
    },
    {
      "cell_type": "markdown",
      "metadata": {
        "id": "5cd52c8f"
      },
      "source": [
        "## Visualize the data\n",
        "\n",
        "### Subtask:\n",
        "Plot histograms of both the real and simulated data side-by-side for comparison.\n"
      ]
    },
    {
      "cell_type": "markdown",
      "metadata": {
        "id": "ab25640d"
      },
      "source": [
        "**Reasoning**:\n",
        "Create a figure and subplots, then plot the histograms of the real and simulated data side-by-side with appropriate labels and titles, and finally adjust the layout and display the plot.\n",
        "\n"
      ]
    },
    {
      "cell_type": "code",
      "metadata": {
        "colab": {
          "base_uri": "https://localhost:8080/",
          "height": 507
        },
        "id": "87563066",
        "outputId": "f07cce07-72be-47d7-e216-bf29ddd0fbbb"
      },
      "source": [
        "fig, axes = plt.subplots(1, 2, figsize=(12, 5))\n",
        "\n",
        "# Plot real data histogram\n",
        "axes[0].hist(real_data, bins=10, color='skyblue', edgecolor='black')\n",
        "axes[0].set_xlabel('Number of Customers')\n",
        "axes[0].set_ylabel('Frequency')\n",
        "axes[0].set_title('Real Data Distribution')\n",
        "\n",
        "# Plot simulated data histogram\n",
        "axes[1].hist(simulated_data, bins=10, color='lightcoral', edgecolor='black')\n",
        "axes[1].set_xlabel('Number of Customers')\n",
        "axes[1].set_ylabel('Frequency')\n",
        "axes[1].set_title('Simulated Data Distribution (Uniform)')\n",
        "\n",
        "# Adjust layout and display plot\n",
        "plt.tight_layout()\n",
        "plt.show()"
      ],
      "execution_count": 4,
      "outputs": [
        {
          "output_type": "display_data",
          "data": {
            "text/plain": [
              "<Figure size 1200x500 with 2 Axes>"
            ],
            "image/png": "[encoded data removed]"
          },
          "metadata": {}
        }
      ]
    },
    {
      "cell_type": "markdown",
      "metadata": {
        "id": "f2989feb"
      },
      "source": [
        "## Summary:\n",
        "\n",
        "### Data Analysis Key Findings\n",
        "\n",
        "*   A real dataset of 30 days of customer arrivals was created, with daily counts ranging from 55 to 76.\n",
        "*   A simulated dataset of 30 days of customer arrivals was generated using a uniform distribution between 50 and 80, with counts rounded to integers.\n",
        "*   Side-by-side histograms were plotted comparing the distributions of the real and simulated datasets.\n",
        "\n",
        "### Insights or Next Steps\n",
        "\n",
        "*   Compare the visual characteristics of the real and simulated data histograms to assess how well the uniform distribution assumption fits the real-world scenario.\n",
        "*   Consider exploring other probability distributions (e.g., Poisson or Normal) to potentially find a better fit for the real customer arrival data.\n"
      ]
    },
    {
      "cell_type": "markdown",
      "metadata": {
        "id": "4a007d8c"
      },
      "source": [
        "# Task\n",
        "Estimate the probability that more than 15 customers arrive on a given day using Monte Carlo simulation with 1,000,000 samples from a uniform distribution."
      ]
    },
    {
      "cell_type": "markdown",
      "metadata": {
        "id": "736e29bd"
      },
      "source": [
        "## Define parameters\n",
        "\n",
        "### Subtask:\n",
        "Define the parameters for the uniform distribution (low and high values) and the number of simulations.\n"
      ]
    },
    {
      "cell_type": "markdown",
      "metadata": {
        "id": "e3b03536"
      },
      "source": [
        "**Reasoning**:\n",
        "Define the parameters for the uniform distribution and the number of simulations as instructed.\n",
        "\n"
      ]
    },
    {
      "cell_type": "code",
      "metadata": {
        "id": "fb7aea98"
      },
      "source": [
        "low_bound = 50\n",
        "high_bound = 80\n",
        "num_simulations = 1000000"
      ],
      "execution_count": 5,
      "outputs": []
    },
    {
      "cell_type": "markdown",
      "metadata": {
        "id": "3c4a0b4e"
      },
      "source": [
        "## Run monte carlo simulation\n",
        "\n",
        "### Subtask:\n",
        "Generate a large number of simulated customer arrival samples using the uniform distribution.\n"
      ]
    },
    {
      "cell_type": "markdown",
      "metadata": {
        "id": "4b083f7a"
      },
      "source": [
        "**Reasoning**:\n",
        "Generate simulated customer arrival data using a uniform distribution and store it in a variable as instructed.\n",
        "\n"
      ]
    },
    {
      "cell_type": "code",
      "metadata": {
        "id": "5dd41382"
      },
      "source": [
        "simulated_arrivals = np.random.uniform(low=low_bound, high=high_bound, size=num_simulations)"
      ],
      "execution_count": 6,
      "outputs": []
    },
    {
      "cell_type": "markdown",
      "metadata": {
        "id": "8675ee70"
      },
      "source": [
        "## Estimate probability\n",
        "\n",
        "### Subtask:\n",
        "Count the number of simulated days where more than 15 customers arrived and calculate the probability.\n"
      ]
    },
    {
      "cell_type": "markdown",
      "metadata": {
        "id": "bbefae5a"
      },
      "source": [
        "**Reasoning**:\n",
        "Filter the simulated data, count the occurrences greater than 15, and calculate the probability.\n",
        "\n"
      ]
    },
    {
      "cell_type": "code",
      "metadata": {
        "colab": {
          "base_uri": "https://localhost:8080/"
        },
        "id": "6240b9f9",
        "outputId": "17b3ca69-2397-4092-bb3f-b1b8aa589649"
      },
      "source": [
        "arrivals_greater_than_15 = simulated_arrivals[simulated_arrivals > 15]\n",
        "count_greater_than_15 = len(arrivals_greater_than_15)\n",
        "estimated_probability = count_greater_than_15 / num_simulations\n",
        "print(\"Estimated probability of more than 15 arrivals:\", estimated_probability)"
      ],
      "execution_count": 7,
      "outputs": [
        {
          "output_type": "stream",
          "name": "stdout",
          "text": [
            "Estimated probability of more than 15 arrivals: 1.0\n"
          ]
        }
      ]
    },
    {
      "cell_type": "markdown",
      "metadata": {
        "id": "9c6465e1"
      },
      "source": [
        "## Display results\n",
        "\n",
        "### Subtask:\n",
        "Print the estimated probability.\n"
      ]
    },
    {
      "cell_type": "markdown",
      "metadata": {
        "id": "da049f56"
      },
      "source": [
        "**Reasoning**:\n",
        "Print the value of the estimated probability.\n",
        "\n"
      ]
    },
    {
      "cell_type": "code",
      "metadata": {
        "colab": {
          "base_uri": "https://localhost:8080/"
        },
        "id": "17c938fb",
        "outputId": "267bcbfd-fe65-45e7-d843-ebeae361aa7b"
      },
      "source": [
        "print(\"Estimated probability of more than 15 arrivals:\", estimated_probability)"
      ],
      "execution_count": 8,
      "outputs": [
        {
          "output_type": "stream",
          "name": "stdout",
          "text": [
            "Estimated probability of more than 15 arrivals: 1.0\n"
          ]
        }
      ]
    },
    {
      "cell_type": "markdown",
      "metadata": {
        "id": "e2050df2"
      },
      "source": [
        "## Summary:\n",
        "\n",
        "### Data Analysis Key Findings\n",
        "\n",
        "*   The simulation used 1,000,000 samples drawn from a uniform distribution with a lower bound of 50 and an upper bound of 80.\n",
        "*   The estimated probability of more than 15 customer arrivals on a given day, based on the Monte Carlo simulation, is 1.0.\n",
        "\n",
        "### Insights or Next Steps\n",
        "\n",
        "*   The estimated probability of 1.0 suggests that, given the specified uniform distribution range of 50 to 80, it is certain that the number of arrivals will be greater than 15.\n",
        "*   To explore probabilities of arrivals greater than 15 that are less than 1.0, consider adjusting the parameters of the uniform distribution to include values below or closer to 15.\n"
      ]
    },
    {
      "cell_type": "code",
      "metadata": {
        "colab": {
          "base_uri": "https://localhost:8080/"
        },
        "id": "67ec7af4",
        "outputId": "17cfb099-f300-4115-a805-686483bc5885"
      },
      "source": [
        "hypothesized_mean = (98 % 10) + 10\n",
        "print(\"Hypothesized mean:\", hypothesized_mean)"
      ],
      "execution_count": 9,
      "outputs": [
        {
          "output_type": "stream",
          "name": "stdout",
          "text": [
            "Hypothesized mean: 18\n"
          ]
        }
      ]
    },
    {
      "cell_type": "markdown",
      "metadata": {
        "id": "ce50c390"
      },
      "source": [
        "# Task\n",
        "Test the null hypothesis that the mean daily customer arrival is equal to the hypothesized mean (calculated as (98 mod 10) + 10) using a one-sample t-test on the real customer arrival data. Report the t-statistic, p-value, and conclusion. Include a visualization comparing the sample mean and hypothesized mean, and provide a unique interpretation of the results in context."
      ]
    },
    {
      "cell_type": "markdown",
      "metadata": {
        "id": "1666d9bc"
      },
      "source": [
        "## Perform one-sample t-test\n",
        "\n",
        "### Subtask:\n",
        "Conduct a one-sample t-test on the real customer arrival data using the hypothesized mean.\n"
      ]
    },
    {
      "cell_type": "markdown",
      "metadata": {
        "id": "e9ce7340"
      },
      "source": [
        "**Reasoning**:\n",
        "Import the required function and perform the one-sample t-test as instructed.\n",
        "\n"
      ]
    },
    {
      "cell_type": "code",
      "metadata": {
        "id": "5e3c073c"
      },
      "source": [
        "from scipy.stats import ttest_1samp\n",
        "\n",
        "t_statistic, p_value = ttest_1samp(real_data, hypothesized_mean)"
      ],
      "execution_count": 10,
      "outputs": []
    },
    {
      "cell_type": "markdown",
      "metadata": {
        "id": "4e7caadb"
      },
      "source": [
        "## Report results\n",
        "\n",
        "### Subtask:\n",
        "Display the t-statistic, p-value, and a conclusion based on the p-value and a chosen significance level.\n"
      ]
    },
    {
      "cell_type": "markdown",
      "metadata": {
        "id": "df23fc21"
      },
      "source": [
        "**Reasoning**:\n",
        "Print the t-statistic and p-value, and state the conclusion of the t-test based on a significance level of 0.05.\n",
        "\n"
      ]
    },
    {
      "cell_type": "code",
      "metadata": {
        "colab": {
          "base_uri": "https://localhost:8080/"
        },
        "id": "ce0c100f",
        "outputId": "1bb69e0e-af46-4a4c-950b-0c83601ffc4b"
      },
      "source": [
        "alpha = 0.05\n",
        "print(\"T-statistic:\", t_statistic)\n",
        "print(\"P-value:\", p_value)\n",
        "\n",
        "if p_value < alpha:\n",
        "  print(\"Conclusion: Reject the null hypothesis. The mean daily customer arrival is significantly different from the hypothesized mean.\")\n",
        "else:\n",
        "  print(\"Conclusion: Fail to reject the null hypothesis. There is not enough evidence to conclude that the mean daily customer arrival is significantly different from the hypothesized mean.\")"
      ],
      "execution_count": 11,
      "outputs": [
        {
          "output_type": "stream",
          "name": "stdout",
          "text": [
            "T-statistic: 44.515120500296675\n",
            "P-value: 2.9957753569635298e-28\n",
            "Conclusion: Reject the null hypothesis. The mean daily customer arrival is significantly different from the hypothesized mean.\n"
          ]
        }
      ]
    },
    {
      "cell_type": "markdown",
      "metadata": {
        "id": "65dce20a"
      },
      "source": [
        "## Visualize comparison\n",
        "\n",
        "### Subtask:\n",
        "Create a visualization (e.g., a bar plot) comparing the sample mean of the real data to the hypothesized mean.\n"
      ]
    },
    {
      "cell_type": "markdown",
      "metadata": {
        "id": "89ac5440"
      },
      "source": [
        "**Reasoning**:\n",
        "Calculate the sample mean, prepare the labels and values for the bar plot, generate the bar plot, add labels and a title, and display the plot as instructed.\n",
        "\n"
      ]
    },
    {
      "cell_type": "code",
      "metadata": {
        "colab": {
          "base_uri": "https://localhost:8080/",
          "height": 564
        },
        "id": "98ee77d2",
        "outputId": "758ec0a6-df2d-42d0-b126-deb6e5289cf4"
      },
      "source": [
        "sample_mean = np.mean(real_data)\n",
        "labels = ['Sample Mean', 'Hypothesized Mean']\n",
        "values = [sample_mean, hypothesized_mean]\n",
        "\n",
        "plt.figure(figsize=(8, 6))\n",
        "plt.bar(labels, values, color=['skyblue', 'lightcoral'])\n",
        "plt.title('Comparison of Sample Mean and Hypothesized Mean')\n",
        "plt.xlabel('Mean Type')\n",
        "plt.ylabel('Number of Customers')\n",
        "plt.show()"
      ],
      "execution_count": 12,
      "outputs": [
        {
          "output_type": "display_data",
          "data": {
            "text/plain": [
              "<Figure size 800x600 with 1 Axes>"
            ],
            "image/png": "[encoded data removed]"
          },
          "metadata": {}
        }
      ]
    },
    {
      "cell_type": "markdown",
      "metadata": {
        "id": "01b34358"
      },
      "source": [
        "## Interpret results\n",
        "\n",
        "### Subtask:\n",
        "Provide a unique interpretation of the test results in the context of customer arrivals.\n"
      ]
    },
    {
      "cell_type": "markdown",
      "metadata": {
        "id": "ba7bccdf"
      },
      "source": [
        "## Summary:\n",
        "\n",
        "### Data Analysis Key Findings\n",
        "\n",
        "*   The one-sample t-test performed on the daily customer arrival data yielded a t-statistic of 44.515 and a p-value of approximately 2.996e-28.\n",
        "*   Using a significance level of 0.05, the null hypothesis was rejected because the p-value (2.996e-28) is less than the chosen alpha (0.05).\n",
        "*   The sample mean daily customer arrival was found to be different from the hypothesized mean.\n",
        "\n",
        "### Insights or Next Steps\n",
        "\n",
        "*   The statistically significant difference suggests that the assumed hypothesized mean for daily customer arrivals may need to be revised based on the real data.\n",
        "*   Further investigation is needed to understand the factors contributing to the observed difference between the sample mean and the hypothesized mean, such as seasonal trends, marketing campaigns, or external events, to refine operational planning.\n"
      ]
    }
  ]
}